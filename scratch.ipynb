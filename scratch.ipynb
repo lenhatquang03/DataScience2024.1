{
 "cells": [
  {
   "cell_type": "markdown",
   "metadata": {},
   "source": [
    "# **Some preparation**\n"
   ]
  },
  {
   "cell_type": "code",
   "execution_count": 10,
   "metadata": {},
   "outputs": [],
   "source": [
    "import pandas as pd"
   ]
  },
  {
   "cell_type": "code",
   "execution_count": 17,
   "metadata": {},
   "outputs": [
    {
     "name": "stdout",
     "output_type": "stream",
     "text": [
      "<class 'pandas.core.frame.DataFrame'>\n",
      "RangeIndex: 28409 entries, 0 to 28408\n",
      "Data columns (total 15 columns):\n",
      " #   Column               Non-Null Count  Dtype  \n",
      "---  ------               --------------  -----  \n",
      " 0   ID                   28409 non-null  object \n",
      " 1   Price (billion VND)  28409 non-null  float64\n",
      " 2   Area (m2)            28409 non-null  float64\n",
      " 3   Property Type        28409 non-null  object \n",
      " 4   Bedrooms             28409 non-null  float64\n",
      " 5   Bathrooms            28409 non-null  float64\n",
      " 6   Address              28409 non-null  object \n",
      " 7   Law Document         28409 non-null  object \n",
      " 8   Post Date            28409 non-null  object \n",
      " 9   Latitude             28409 non-null  float64\n",
      " 10  Longitude            28409 non-null  float64\n",
      " 11  Postal Code          28409 non-null  float64\n",
      " 12  Importance           28409 non-null  float64\n",
      " 13  Place Rank           28409 non-null  float64\n",
      " 14  City                 28409 non-null  object \n",
      "dtypes: float64(9), object(6)\n",
      "memory usage: 3.3+ MB\n"
     ]
    }
   ],
   "source": [
    "data = pd.read_csv(\"combinedData.csv\").drop(\"Unnamed: 0\", axis=1)\n",
    "data.info()"
   ]
  }
 ],
 "metadata": {
  "kernelspec": {
   "display_name": "Python 3",
   "language": "python",
   "name": "python3"
  },
  "language_info": {
   "codemirror_mode": {
    "name": "ipython",
    "version": 3
   },
   "file_extension": ".py",
   "mimetype": "text/x-python",
   "name": "python",
   "nbconvert_exporter": "python",
   "pygments_lexer": "ipython3",
   "version": "3.11.1"
  }
 },
 "nbformat": 4,
 "nbformat_minor": 2
}
