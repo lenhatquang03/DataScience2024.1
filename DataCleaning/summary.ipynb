{
 "cells": [
  {
   "cell_type": "code",
   "execution_count": 1,
   "metadata": {},
   "outputs": [],
   "source": [
    "import pandas as pd\n",
    "import numpy as np\n",
    "from CleanData import CleanData"
   ]
  },
  {
   "cell_type": "code",
   "execution_count": 2,
   "metadata": {},
   "outputs": [],
   "source": [
    "apartment_df = pd.read_json(\"../CafeLand/data/hanoi_apartment.json\")\n",
    "private_house_df = pd.read_json(\"../CafeLand/data/hanoi_private_house.json\")\n",
    "town_house_df = pd.read_json(r\"../CafeLand/data/hanoi_town_house.json\")\n",
    "villa_df = pd.read_json(\"../CafeLand/data/hanoi_villa.json\")"
   ]
  },
  {
   "cell_type": "code",
   "execution_count": 3,
   "metadata": {},
   "outputs": [],
   "source": [
    "different_way = pd.concat([apartment_df, private_house_df, town_house_df, villa_df], ignore_index= True)"
   ]
  },
  {
   "cell_type": "code",
   "execution_count": 4,
   "metadata": {},
   "outputs": [],
   "source": [
    "preprocessed = CleanData(different_way).preprocessing()"
   ]
  },
  {
   "cell_type": "code",
   "execution_count": 5,
   "metadata": {},
   "outputs": [],
   "source": [
    "percentage = CleanData(preprocessed).nan_percentage()"
   ]
  },
  {
   "cell_type": "code",
   "execution_count": 6,
   "metadata": {},
   "outputs": [
    {
     "data": {
      "text/plain": [
       "Day                     0.00\n",
       "Month                   0.00\n",
       "Year                    0.00\n",
       "District               14.31\n",
       "Price (billion VND)     0.00\n",
       "Area (m2)               2.32\n",
       "Property Type           0.01\n",
       "Direction              71.15\n",
       "Floors                 46.25\n",
       "Bathrooms              48.54\n",
       "Entrance (m2)          56.51\n",
       "Bedrooms               43.09\n",
       "Living Rooms           52.15\n",
       "Law Document            0.00\n",
       "Latitude               22.58\n",
       "Longitude              22.58\n",
       "dtype: float64"
      ]
     },
     "execution_count": 6,
     "metadata": {},
     "output_type": "execute_result"
    }
   ],
   "source": [
    "percentage"
   ]
  },
  {
   "cell_type": "code",
   "execution_count": 7,
   "metadata": {},
   "outputs": [],
   "source": [
    "CleanData(preprocessed).drop_field(series = percentage, cutoff=60)"
   ]
  },
  {
   "cell_type": "code",
   "execution_count": 8,
   "metadata": {},
   "outputs": [
    {
     "name": "stdout",
     "output_type": "stream",
     "text": [
      "<class 'pandas.core.frame.DataFrame'>\n",
      "RangeIndex: 28765 entries, 0 to 28764\n",
      "Data columns (total 15 columns):\n",
      " #   Column               Non-Null Count  Dtype  \n",
      "---  ------               --------------  -----  \n",
      " 0   Day                  28765 non-null  int64  \n",
      " 1   Month                28765 non-null  int64  \n",
      " 2   Year                 28765 non-null  int64  \n",
      " 3   District             24649 non-null  object \n",
      " 4   Price (billion VND)  28765 non-null  float64\n",
      " 5   Area (m2)            28099 non-null  float64\n",
      " 6   Property Type        28761 non-null  object \n",
      " 7   Floors               15462 non-null  float64\n",
      " 8   Bathrooms            14802 non-null  float64\n",
      " 9   Entrance (m2)        12511 non-null  float64\n",
      " 10  Bedrooms             16370 non-null  float64\n",
      " 11  Living Rooms         13763 non-null  float64\n",
      " 12  Law Document         28765 non-null  object \n",
      " 13  Latitude             22271 non-null  float64\n",
      " 14  Longitude            22271 non-null  float64\n",
      "dtypes: float64(9), int64(3), object(3)\n",
      "memory usage: 3.3+ MB\n"
     ]
    }
   ],
   "source": [
    "preprocessed.info()"
   ]
  },
  {
   "cell_type": "code",
   "execution_count": 9,
   "metadata": {},
   "outputs": [],
   "source": [
    "preprocessed.to_csv(\"unImputed_data.csv\")"
   ]
  }
 ],
 "metadata": {
  "kernelspec": {
   "display_name": "Python 3",
   "language": "python",
   "name": "python3"
  },
  "language_info": {
   "codemirror_mode": {
    "name": "ipython",
    "version": 3
   },
   "file_extension": ".py",
   "mimetype": "text/x-python",
   "name": "python",
   "nbconvert_exporter": "python",
   "pygments_lexer": "ipython3",
   "version": "3.11.1"
  }
 },
 "nbformat": 4,
 "nbformat_minor": 2
}
