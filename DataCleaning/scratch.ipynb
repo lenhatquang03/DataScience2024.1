{
 "cells": [
  {
   "cell_type": "code",
   "execution_count": 1,
   "metadata": {},
   "outputs": [],
   "source": [
    "import pandas as pd\n",
    "\n",
    "# Sample dataframe with categorical data\n",
    "data = pd.DataFrame({\n",
    "    'fruit': ['apple', 'banana', \"orange\", 'banana', 'apple'],\n",
    "    'color': ['red', None, 'yellow', 'yellow', 'red'],\n",
    "    'count': [5, None, 3, 4, 5]\n",
    "})\n",
    "\n",
    "# Convert categorical columns to 'category' dtype\n",
    "data['fruit'] = data['fruit'].astype('category')"
   ]
  },
  {
   "cell_type": "code",
   "execution_count": 2,
   "metadata": {},
   "outputs": [
    {
     "data": {
      "text/plain": [
       "0     apple\n",
       "1    banana\n",
       "2    orange\n",
       "3    banana\n",
       "4     apple\n",
       "Name: fruit, dtype: category\n",
       "Categories (3, object): ['apple', 'banana', 'orange']"
      ]
     },
     "execution_count": 2,
     "metadata": {},
     "output_type": "execute_result"
    }
   ],
   "source": [
    "data[\"fruit\"]"
   ]
  }
 ],
 "metadata": {
  "kernelspec": {
   "display_name": "Python 3",
   "language": "python",
   "name": "python3"
  },
  "language_info": {
   "codemirror_mode": {
    "name": "ipython",
    "version": 3
   },
   "file_extension": ".py",
   "mimetype": "text/x-python",
   "name": "python",
   "nbconvert_exporter": "python",
   "pygments_lexer": "ipython3",
   "version": "3.11.1"
  }
 },
 "nbformat": 4,
 "nbformat_minor": 2
}
