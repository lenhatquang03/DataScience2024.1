{
 "cells": [
  {
   "cell_type": "code",
   "execution_count": 22,
   "metadata": {
    "id": "YUGZDRdXCZQ9"
   },
   "outputs": [],
   "source": [
    "import pandas as pd\n",
    "import numpy as np\n",
    "from sklearn.preprocessing import OrdinalEncoder, StandardScaler\n",
    "from sklearn.model_selection import train_test_split, RandomizedSearchCV\n",
    "from sklearn.metrics import mean_absolute_error, mean_squared_error, r2_score\n",
    "from sklearn.ensemble import RandomForestRegressor"
   ]
  },
  {
   "cell_type": "code",
   "execution_count": 2,
   "metadata": {
    "colab": {
     "base_uri": "https://localhost:8080/"
    },
    "id": "UOspjlnkCjCi",
    "outputId": "6b48d06b-9e9f-4aa6-81c2-1932c37a0c30"
   },
   "outputs": [
    {
     "name": "stdout",
     "output_type": "stream",
     "text": [
      "<class 'pandas.core.frame.DataFrame'>\n",
      "RangeIndex: 28409 entries, 0 to 28408\n",
      "Data columns (total 15 columns):\n",
      " #   Column               Non-Null Count  Dtype  \n",
      "---  ------               --------------  -----  \n",
      " 0   ID                   28409 non-null  object \n",
      " 1   Price (billion VND)  28409 non-null  float64\n",
      " 2   Area (m2)            28409 non-null  float64\n",
      " 3   Property Type        28409 non-null  object \n",
      " 4   Bedrooms             28409 non-null  int64  \n",
      " 5   Bathrooms            28409 non-null  int64  \n",
      " 6   Address              28409 non-null  object \n",
      " 7   Law Document         28409 non-null  object \n",
      " 8   Post Date            28409 non-null  object \n",
      " 9   Latitude             28409 non-null  float64\n",
      " 10  Longitude            28409 non-null  float64\n",
      " 11  Postal Code          28409 non-null  float64\n",
      " 12  Importance           28409 non-null  float64\n",
      " 13  Place Rank           28409 non-null  float64\n",
      " 14  City                 28409 non-null  object \n",
      "dtypes: float64(7), int64(2), object(6)\n",
      "memory usage: 3.3+ MB\n"
     ]
    }
   ],
   "source": [
    "data = pd.read_csv(\"combinedData.csv\").drop(\"Unnamed: 0\", axis=1)\n",
    "data.info()"
   ]
  },
  {
   "cell_type": "markdown",
   "metadata": {
    "id": "KUU6B25sDh0t"
   },
   "source": [
    "# **1. Finalizing the labels**"
   ]
  },
  {
   "cell_type": "markdown",
   "metadata": {
    "id": "RwtJXqhgD22-"
   },
   "source": [
    "## **1.1. Property Type**"
   ]
  },
  {
   "cell_type": "code",
   "execution_count": 3,
   "metadata": {
    "colab": {
     "base_uri": "https://localhost:8080/"
    },
    "id": "B3NnN3y-CqM2",
    "outputId": "6607d029-c7c0-44db-eb95-6d52e26500c2"
   },
   "outputs": [
    {
     "data": {
      "text/plain": [
       "array(['Căn hộ', 'Căn hộ Studio', 'Nhà phố', 'can ho chung cu',\n",
       "       'nha rieng', 'nha pho du an', 'biet thu'], dtype=object)"
      ]
     },
     "execution_count": 3,
     "metadata": {},
     "output_type": "execute_result"
    }
   ],
   "source": [
    "data[\"Property Type\"].unique()"
   ]
  },
  {
   "cell_type": "code",
   "execution_count": 4,
   "metadata": {
    "id": "PI-l3pHjD7-e"
   },
   "outputs": [],
   "source": [
    "data[\"Property Type\"] = data[\"Property Type\"].replace(\"Căn hộ\", \"can ho chung cu\")\n",
    "data[\"Property Type\"] = data[\"Property Type\"].replace(\"Căn hộ Studio\", \"can ho studio\")\n",
    "data[\"Property Type\"] = data[\"Property Type\"].replace(\"Nhà phố\", \"nha pho du an\")"
   ]
  },
  {
   "cell_type": "code",
   "execution_count": 5,
   "metadata": {
    "colab": {
     "base_uri": "https://localhost:8080/"
    },
    "id": "Cm5BbQrbEtI6",
    "outputId": "0ff59962-14ec-41ea-b391-c7fd6bd3d3df"
   },
   "outputs": [
    {
     "data": {
      "text/plain": [
       "array(['can ho chung cu', 'can ho studio', 'nha pho du an', 'nha rieng',\n",
       "       'biet thu'], dtype=object)"
      ]
     },
     "execution_count": 5,
     "metadata": {},
     "output_type": "execute_result"
    }
   ],
   "source": [
    "data[\"Property Type\"].unique()"
   ]
  },
  {
   "cell_type": "markdown",
   "metadata": {
    "id": "jR1fLKRKEwG5"
   },
   "source": [
    "## **1.2. Law Document**"
   ]
  },
  {
   "cell_type": "code",
   "execution_count": 6,
   "metadata": {
    "colab": {
     "base_uri": "https://localhost:8080/"
    },
    "id": "RqOKJ_4gC1it",
    "outputId": "8cfddae7-1036-44fe-ccd5-df07e48eab4f"
   },
   "outputs": [
    {
     "data": {
      "text/plain": [
       "array(['So hong', 'Hop đong', 'Giay đo', 'KXĐ', 'not provided',\n",
       "       'Giay to hop le', 'Đang hop thuc hoa', 'Giay tay',\n",
       "       'Chu quyen tu nhan', 'Khong xac đinh'], dtype=object)"
      ]
     },
     "execution_count": 6,
     "metadata": {},
     "output_type": "execute_result"
    }
   ],
   "source": [
    "data[\"Law Document\"].unique()"
   ]
  },
  {
   "cell_type": "code",
   "execution_count": 7,
   "metadata": {
    "id": "87ZgfIfxEJkI"
   },
   "outputs": [],
   "source": [
    "data[\"Law Document\"] = data[\"Law Document\"].replace([\"KXĐ\", \"not provided\"], \"Khong xac đinh\")"
   ]
  },
  {
   "cell_type": "code",
   "execution_count": 8,
   "metadata": {
    "colab": {
     "base_uri": "https://localhost:8080/"
    },
    "id": "0wbtL--JFRA_",
    "outputId": "fd5e5872-01f7-4286-e754-ce6556987aba"
   },
   "outputs": [
    {
     "data": {
      "text/plain": [
       "array(['So hong', 'Hop đong', 'Giay đo', 'Khong xac đinh',\n",
       "       'Giay to hop le', 'Đang hop thuc hoa', 'Giay tay',\n",
       "       'Chu quyen tu nhan'], dtype=object)"
      ]
     },
     "execution_count": 8,
     "metadata": {},
     "output_type": "execute_result"
    }
   ],
   "source": [
    "data[\"Law Document\"].unique()"
   ]
  },
  {
   "cell_type": "markdown",
   "metadata": {
    "id": "9G-lnPu5Hwpe"
   },
   "source": [
    "## **1.3. Post Date**"
   ]
  },
  {
   "cell_type": "code",
   "execution_count": 9,
   "metadata": {
    "id": "Kizt450_Hj6m"
   },
   "outputs": [],
   "source": [
    "data[\"Year\"] = data[\"Post Date\"].apply(lambda x: int(x.split(\"-\")[0]))\n",
    "data[\"Month\"] = data[\"Post Date\"].apply(lambda x: int(x.split(\"-\")[1]))\n",
    "data[\"Date\"] = data[\"Post Date\"].apply(lambda x: int(x.split(\"-\")[2]))"
   ]
  },
  {
   "cell_type": "code",
   "execution_count": 10,
   "metadata": {
    "id": "f_4RF_4zIKLR"
   },
   "outputs": [],
   "source": [
    "data.drop(\"Post Date\", axis=1, inplace=True)"
   ]
  },
  {
   "cell_type": "code",
   "execution_count": 11,
   "metadata": {
    "colab": {
     "base_uri": "https://localhost:8080/"
    },
    "id": "x_Ymy9ehr_ly",
    "outputId": "412e2c61-6840-4a0c-8788-b8f67c41ae66"
   },
   "outputs": [
    {
     "name": "stdout",
     "output_type": "stream",
     "text": [
      "<class 'pandas.core.frame.DataFrame'>\n",
      "RangeIndex: 28409 entries, 0 to 28408\n",
      "Data columns (total 17 columns):\n",
      " #   Column               Non-Null Count  Dtype  \n",
      "---  ------               --------------  -----  \n",
      " 0   ID                   28409 non-null  object \n",
      " 1   Price (billion VND)  28409 non-null  float64\n",
      " 2   Area (m2)            28409 non-null  float64\n",
      " 3   Property Type        28409 non-null  object \n",
      " 4   Bedrooms             28409 non-null  int64  \n",
      " 5   Bathrooms            28409 non-null  int64  \n",
      " 6   Address              28409 non-null  object \n",
      " 7   Law Document         28409 non-null  object \n",
      " 8   Latitude             28409 non-null  float64\n",
      " 9   Longitude            28409 non-null  float64\n",
      " 10  Postal Code          28409 non-null  float64\n",
      " 11  Importance           28409 non-null  float64\n",
      " 12  Place Rank           28409 non-null  float64\n",
      " 13  City                 28409 non-null  object \n",
      " 14  Year                 28409 non-null  int64  \n",
      " 15  Month                28409 non-null  int64  \n",
      " 16  Date                 28409 non-null  int64  \n",
      "dtypes: float64(7), int64(5), object(5)\n",
      "memory usage: 3.7+ MB\n"
     ]
    }
   ],
   "source": [
    "data.info()"
   ]
  },
  {
   "cell_type": "markdown",
   "metadata": {
    "id": "SHFdxPhxpiux"
   },
   "source": [
    "# **2. Training my Random Forest model**"
   ]
  },
  {
   "cell_type": "markdown",
   "metadata": {
    "id": "z-tCmgH2qDXu"
   },
   "source": [
    "## **2.1. Preprocessing data**"
   ]
  },
  {
   "cell_type": "markdown",
   "metadata": {
    "id": "xBbQKWXPqXe1"
   },
   "source": [
    "### **2.1.1. Scaling numerical fields**"
   ]
  },
  {
   "cell_type": "code",
   "execution_count": 12,
   "metadata": {
    "id": "WP_lOY6sba8f"
   },
   "outputs": [],
   "source": [
    "used_data = data.drop([\"ID\", \"Address\"], axis=1)\n",
    "numerical_fields = used_data.select_dtypes(include=[\"float64\", \"int64\"]).columns\n",
    "scaler = StandardScaler()\n",
    "used_data[numerical_fields] = scaler.fit_transform(used_data[numerical_fields])"
   ]
  },
  {
   "cell_type": "code",
   "execution_count": 13,
   "metadata": {
    "colab": {
     "base_uri": "https://localhost:8080/",
     "height": 652
    },
    "id": "cu0LcWcxsPB0",
    "outputId": "cd525b25-94a4-4fbc-b0ec-27d2dcb91187"
   },
   "outputs": [
    {
     "data": {
      "text/html": [
       "<div>\n",
       "<style scoped>\n",
       "    .dataframe tbody tr th:only-of-type {\n",
       "        vertical-align: middle;\n",
       "    }\n",
       "\n",
       "    .dataframe tbody tr th {\n",
       "        vertical-align: top;\n",
       "    }\n",
       "\n",
       "    .dataframe thead th {\n",
       "        text-align: right;\n",
       "    }\n",
       "</style>\n",
       "<table border=\"1\" class=\"dataframe\">\n",
       "  <thead>\n",
       "    <tr style=\"text-align: right;\">\n",
       "      <th></th>\n",
       "      <th>Price (billion VND)</th>\n",
       "      <th>Area (m2)</th>\n",
       "      <th>Property Type</th>\n",
       "      <th>Bedrooms</th>\n",
       "      <th>Bathrooms</th>\n",
       "      <th>Law Document</th>\n",
       "      <th>Latitude</th>\n",
       "      <th>Longitude</th>\n",
       "      <th>Postal Code</th>\n",
       "      <th>Importance</th>\n",
       "      <th>Place Rank</th>\n",
       "      <th>City</th>\n",
       "      <th>Year</th>\n",
       "      <th>Month</th>\n",
       "      <th>Date</th>\n",
       "    </tr>\n",
       "  </thead>\n",
       "  <tbody>\n",
       "    <tr>\n",
       "      <th>0</th>\n",
       "      <td>-0.835496</td>\n",
       "      <td>-0.514786</td>\n",
       "      <td>can ho chung cu</td>\n",
       "      <td>-0.924916</td>\n",
       "      <td>-1.611125</td>\n",
       "      <td>So hong</td>\n",
       "      <td>-1.462842</td>\n",
       "      <td>1.335916</td>\n",
       "      <td>1.498438</td>\n",
       "      <td>-0.880620</td>\n",
       "      <td>1.284855</td>\n",
       "      <td>HCM</td>\n",
       "      <td>1.799852</td>\n",
       "      <td>0.709435</td>\n",
       "      <td>-0.565353</td>\n",
       "    </tr>\n",
       "    <tr>\n",
       "      <th>1</th>\n",
       "      <td>3.143606</td>\n",
       "      <td>1.082414</td>\n",
       "      <td>can ho chung cu</td>\n",
       "      <td>-0.924916</td>\n",
       "      <td>-0.743176</td>\n",
       "      <td>Hop đong</td>\n",
       "      <td>-1.451113</td>\n",
       "      <td>1.488025</td>\n",
       "      <td>1.432554</td>\n",
       "      <td>0.188526</td>\n",
       "      <td>-0.506473</td>\n",
       "      <td>HCM</td>\n",
       "      <td>1.799852</td>\n",
       "      <td>0.387465</td>\n",
       "      <td>1.660362</td>\n",
       "    </tr>\n",
       "    <tr>\n",
       "      <th>2</th>\n",
       "      <td>2.707062</td>\n",
       "      <td>0.684554</td>\n",
       "      <td>can ho chung cu</td>\n",
       "      <td>-0.924916</td>\n",
       "      <td>-0.743176</td>\n",
       "      <td>Hop đong</td>\n",
       "      <td>-1.450360</td>\n",
       "      <td>1.543152</td>\n",
       "      <td>1.495161</td>\n",
       "      <td>0.188526</td>\n",
       "      <td>-0.506473</td>\n",
       "      <td>HCM</td>\n",
       "      <td>1.799852</td>\n",
       "      <td>0.387465</td>\n",
       "      <td>-1.385353</td>\n",
       "    </tr>\n",
       "    <tr>\n",
       "      <th>3</th>\n",
       "      <td>1.070020</td>\n",
       "      <td>-0.199827</td>\n",
       "      <td>can ho chung cu</td>\n",
       "      <td>-1.549241</td>\n",
       "      <td>-1.611125</td>\n",
       "      <td>Hop đong</td>\n",
       "      <td>-1.450360</td>\n",
       "      <td>1.543152</td>\n",
       "      <td>1.495161</td>\n",
       "      <td>0.188526</td>\n",
       "      <td>-0.506473</td>\n",
       "      <td>HCM</td>\n",
       "      <td>1.799852</td>\n",
       "      <td>0.387465</td>\n",
       "      <td>-1.385353</td>\n",
       "    </tr>\n",
       "    <tr>\n",
       "      <th>4</th>\n",
       "      <td>2.379653</td>\n",
       "      <td>0.707920</td>\n",
       "      <td>can ho chung cu</td>\n",
       "      <td>-0.924916</td>\n",
       "      <td>-0.743176</td>\n",
       "      <td>Hop đong</td>\n",
       "      <td>-1.450360</td>\n",
       "      <td>1.543152</td>\n",
       "      <td>1.495161</td>\n",
       "      <td>0.188526</td>\n",
       "      <td>-0.506473</td>\n",
       "      <td>HCM</td>\n",
       "      <td>1.799852</td>\n",
       "      <td>0.387465</td>\n",
       "      <td>-1.385353</td>\n",
       "    </tr>\n",
       "    <tr>\n",
       "      <th>...</th>\n",
       "      <td>...</td>\n",
       "      <td>...</td>\n",
       "      <td>...</td>\n",
       "      <td>...</td>\n",
       "      <td>...</td>\n",
       "      <td>...</td>\n",
       "      <td>...</td>\n",
       "      <td>...</td>\n",
       "      <td>...</td>\n",
       "      <td>...</td>\n",
       "      <td>...</td>\n",
       "      <td>...</td>\n",
       "      <td>...</td>\n",
       "      <td>...</td>\n",
       "      <td>...</td>\n",
       "    </tr>\n",
       "    <tr>\n",
       "      <th>28404</th>\n",
       "      <td>2.161381</td>\n",
       "      <td>0.154182</td>\n",
       "      <td>biet thu</td>\n",
       "      <td>2.196706</td>\n",
       "      <td>-0.743176</td>\n",
       "      <td>Khong xac đinh</td>\n",
       "      <td>0.689577</td>\n",
       "      <td>-0.373589</td>\n",
       "      <td>-0.694185</td>\n",
       "      <td>0.188642</td>\n",
       "      <td>-0.506473</td>\n",
       "      <td>HN</td>\n",
       "      <td>1.799852</td>\n",
       "      <td>-0.578444</td>\n",
       "      <td>-0.331067</td>\n",
       "    </tr>\n",
       "    <tr>\n",
       "      <th>28405</th>\n",
       "      <td>-1.167270</td>\n",
       "      <td>2.042654</td>\n",
       "      <td>biet thu</td>\n",
       "      <td>1.572382</td>\n",
       "      <td>0.992724</td>\n",
       "      <td>Khong xac đinh</td>\n",
       "      <td>0.684676</td>\n",
       "      <td>-0.587367</td>\n",
       "      <td>-0.637818</td>\n",
       "      <td>0.188642</td>\n",
       "      <td>-0.506473</td>\n",
       "      <td>HN</td>\n",
       "      <td>1.799852</td>\n",
       "      <td>-0.256474</td>\n",
       "      <td>-1.619639</td>\n",
       "    </tr>\n",
       "    <tr>\n",
       "      <th>28406</th>\n",
       "      <td>3.580151</td>\n",
       "      <td>0.954382</td>\n",
       "      <td>biet thu</td>\n",
       "      <td>-0.300592</td>\n",
       "      <td>-0.743176</td>\n",
       "      <td>Khong xac đinh</td>\n",
       "      <td>0.695583</td>\n",
       "      <td>-0.683411</td>\n",
       "      <td>-0.686202</td>\n",
       "      <td>-0.880504</td>\n",
       "      <td>1.284855</td>\n",
       "      <td>HN</td>\n",
       "      <td>1.799852</td>\n",
       "      <td>-0.256474</td>\n",
       "      <td>-0.448210</td>\n",
       "    </tr>\n",
       "    <tr>\n",
       "      <th>28407</th>\n",
       "      <td>3.143606</td>\n",
       "      <td>0.154182</td>\n",
       "      <td>biet thu</td>\n",
       "      <td>-0.924916</td>\n",
       "      <td>0.124774</td>\n",
       "      <td>Khong xac đinh</td>\n",
       "      <td>0.683845</td>\n",
       "      <td>-0.701014</td>\n",
       "      <td>-0.689479</td>\n",
       "      <td>0.188642</td>\n",
       "      <td>-0.506473</td>\n",
       "      <td>HN</td>\n",
       "      <td>1.799852</td>\n",
       "      <td>0.387465</td>\n",
       "      <td>-0.799639</td>\n",
       "    </tr>\n",
       "    <tr>\n",
       "      <th>28408</th>\n",
       "      <td>-1.093057</td>\n",
       "      <td>0.282214</td>\n",
       "      <td>biet thu</td>\n",
       "      <td>-0.300592</td>\n",
       "      <td>0.124774</td>\n",
       "      <td>Giay to hop le</td>\n",
       "      <td>0.684190</td>\n",
       "      <td>-0.644544</td>\n",
       "      <td>-0.634297</td>\n",
       "      <td>0.188642</td>\n",
       "      <td>-0.506473</td>\n",
       "      <td>HN</td>\n",
       "      <td>1.799852</td>\n",
       "      <td>0.387465</td>\n",
       "      <td>-0.799639</td>\n",
       "    </tr>\n",
       "  </tbody>\n",
       "</table>\n",
       "<p>28409 rows × 15 columns</p>\n",
       "</div>"
      ],
      "text/plain": [
       "       Price (billion VND)  Area (m2)    Property Type  Bedrooms  Bathrooms  \\\n",
       "0                -0.835496  -0.514786  can ho chung cu -0.924916  -1.611125   \n",
       "1                 3.143606   1.082414  can ho chung cu -0.924916  -0.743176   \n",
       "2                 2.707062   0.684554  can ho chung cu -0.924916  -0.743176   \n",
       "3                 1.070020  -0.199827  can ho chung cu -1.549241  -1.611125   \n",
       "4                 2.379653   0.707920  can ho chung cu -0.924916  -0.743176   \n",
       "...                    ...        ...              ...       ...        ...   \n",
       "28404             2.161381   0.154182         biet thu  2.196706  -0.743176   \n",
       "28405            -1.167270   2.042654         biet thu  1.572382   0.992724   \n",
       "28406             3.580151   0.954382         biet thu -0.300592  -0.743176   \n",
       "28407             3.143606   0.154182         biet thu -0.924916   0.124774   \n",
       "28408            -1.093057   0.282214         biet thu -0.300592   0.124774   \n",
       "\n",
       "         Law Document  Latitude  Longitude  Postal Code  Importance  \\\n",
       "0             So hong -1.462842   1.335916     1.498438   -0.880620   \n",
       "1            Hop đong -1.451113   1.488025     1.432554    0.188526   \n",
       "2            Hop đong -1.450360   1.543152     1.495161    0.188526   \n",
       "3            Hop đong -1.450360   1.543152     1.495161    0.188526   \n",
       "4            Hop đong -1.450360   1.543152     1.495161    0.188526   \n",
       "...               ...       ...        ...          ...         ...   \n",
       "28404  Khong xac đinh  0.689577  -0.373589    -0.694185    0.188642   \n",
       "28405  Khong xac đinh  0.684676  -0.587367    -0.637818    0.188642   \n",
       "28406  Khong xac đinh  0.695583  -0.683411    -0.686202   -0.880504   \n",
       "28407  Khong xac đinh  0.683845  -0.701014    -0.689479    0.188642   \n",
       "28408  Giay to hop le  0.684190  -0.644544    -0.634297    0.188642   \n",
       "\n",
       "       Place Rank City      Year     Month      Date  \n",
       "0        1.284855  HCM  1.799852  0.709435 -0.565353  \n",
       "1       -0.506473  HCM  1.799852  0.387465  1.660362  \n",
       "2       -0.506473  HCM  1.799852  0.387465 -1.385353  \n",
       "3       -0.506473  HCM  1.799852  0.387465 -1.385353  \n",
       "4       -0.506473  HCM  1.799852  0.387465 -1.385353  \n",
       "...           ...  ...       ...       ...       ...  \n",
       "28404   -0.506473   HN  1.799852 -0.578444 -0.331067  \n",
       "28405   -0.506473   HN  1.799852 -0.256474 -1.619639  \n",
       "28406    1.284855   HN  1.799852 -0.256474 -0.448210  \n",
       "28407   -0.506473   HN  1.799852  0.387465 -0.799639  \n",
       "28408   -0.506473   HN  1.799852  0.387465 -0.799639  \n",
       "\n",
       "[28409 rows x 15 columns]"
      ]
     },
     "execution_count": 13,
     "metadata": {},
     "output_type": "execute_result"
    }
   ],
   "source": [
    "used_data"
   ]
  },
  {
   "cell_type": "markdown",
   "metadata": {
    "id": "hcYFGrlcqJAe"
   },
   "source": [
    "### **2.1.2. Encoding categorical fields**"
   ]
  },
  {
   "cell_type": "code",
   "execution_count": 14,
   "metadata": {
    "id": "hZ8LAQsaFwGL"
   },
   "outputs": [],
   "source": [
    "def numerical_convert(data: pd.DataFrame, categorical_encoder) -> any:\n",
    "    \"\"\" Return the converted DataFrame and the transformation dictionary \"\"\"\n",
    "    converted_data = data.copy()\n",
    "    object_cols = data.select_dtypes(include=[\"object\"]).columns\n",
    "    for col in object_cols:\n",
    "        converted_data[col] = categorical_encoder.fit_transform(data[[col]])\n",
    "    return converted_data"
   ]
  },
  {
   "cell_type": "code",
   "execution_count": 15,
   "metadata": {
    "id": "O5fIJTido-jR"
   },
   "outputs": [],
   "source": [
    "input_data = numerical_convert(used_data, OrdinalEncoder())"
   ]
  },
  {
   "cell_type": "code",
   "execution_count": 16,
   "metadata": {
    "colab": {
     "base_uri": "https://localhost:8080/",
     "height": 478
    },
    "id": "BjiZVf24rZ60",
    "outputId": "8530c3f7-689c-470a-faed-0ddc7b84bd19"
   },
   "outputs": [
    {
     "data": {
      "text/html": [
       "<div>\n",
       "<style scoped>\n",
       "    .dataframe tbody tr th:only-of-type {\n",
       "        vertical-align: middle;\n",
       "    }\n",
       "\n",
       "    .dataframe tbody tr th {\n",
       "        vertical-align: top;\n",
       "    }\n",
       "\n",
       "    .dataframe thead th {\n",
       "        text-align: right;\n",
       "    }\n",
       "</style>\n",
       "<table border=\"1\" class=\"dataframe\">\n",
       "  <thead>\n",
       "    <tr style=\"text-align: right;\">\n",
       "      <th></th>\n",
       "      <th>Price (billion VND)</th>\n",
       "      <th>Area (m2)</th>\n",
       "      <th>Property Type</th>\n",
       "      <th>Bedrooms</th>\n",
       "      <th>Bathrooms</th>\n",
       "      <th>Law Document</th>\n",
       "      <th>Latitude</th>\n",
       "      <th>Longitude</th>\n",
       "      <th>Postal Code</th>\n",
       "      <th>Importance</th>\n",
       "      <th>Place Rank</th>\n",
       "      <th>City</th>\n",
       "      <th>Year</th>\n",
       "      <th>Month</th>\n",
       "      <th>Date</th>\n",
       "    </tr>\n",
       "  </thead>\n",
       "  <tbody>\n",
       "    <tr>\n",
       "      <th>0</th>\n",
       "      <td>-0.835496</td>\n",
       "      <td>-0.514786</td>\n",
       "      <td>1.0</td>\n",
       "      <td>-0.924916</td>\n",
       "      <td>-1.611125</td>\n",
       "      <td>6.0</td>\n",
       "      <td>-1.462842</td>\n",
       "      <td>1.335916</td>\n",
       "      <td>1.498438</td>\n",
       "      <td>-0.880620</td>\n",
       "      <td>1.284855</td>\n",
       "      <td>0.0</td>\n",
       "      <td>1.799852</td>\n",
       "      <td>0.709435</td>\n",
       "      <td>-0.565353</td>\n",
       "    </tr>\n",
       "    <tr>\n",
       "      <th>1</th>\n",
       "      <td>3.143606</td>\n",
       "      <td>1.082414</td>\n",
       "      <td>1.0</td>\n",
       "      <td>-0.924916</td>\n",
       "      <td>-0.743176</td>\n",
       "      <td>4.0</td>\n",
       "      <td>-1.451113</td>\n",
       "      <td>1.488025</td>\n",
       "      <td>1.432554</td>\n",
       "      <td>0.188526</td>\n",
       "      <td>-0.506473</td>\n",
       "      <td>0.0</td>\n",
       "      <td>1.799852</td>\n",
       "      <td>0.387465</td>\n",
       "      <td>1.660362</td>\n",
       "    </tr>\n",
       "    <tr>\n",
       "      <th>2</th>\n",
       "      <td>2.707062</td>\n",
       "      <td>0.684554</td>\n",
       "      <td>1.0</td>\n",
       "      <td>-0.924916</td>\n",
       "      <td>-0.743176</td>\n",
       "      <td>4.0</td>\n",
       "      <td>-1.450360</td>\n",
       "      <td>1.543152</td>\n",
       "      <td>1.495161</td>\n",
       "      <td>0.188526</td>\n",
       "      <td>-0.506473</td>\n",
       "      <td>0.0</td>\n",
       "      <td>1.799852</td>\n",
       "      <td>0.387465</td>\n",
       "      <td>-1.385353</td>\n",
       "    </tr>\n",
       "    <tr>\n",
       "      <th>3</th>\n",
       "      <td>1.070020</td>\n",
       "      <td>-0.199827</td>\n",
       "      <td>1.0</td>\n",
       "      <td>-1.549241</td>\n",
       "      <td>-1.611125</td>\n",
       "      <td>4.0</td>\n",
       "      <td>-1.450360</td>\n",
       "      <td>1.543152</td>\n",
       "      <td>1.495161</td>\n",
       "      <td>0.188526</td>\n",
       "      <td>-0.506473</td>\n",
       "      <td>0.0</td>\n",
       "      <td>1.799852</td>\n",
       "      <td>0.387465</td>\n",
       "      <td>-1.385353</td>\n",
       "    </tr>\n",
       "    <tr>\n",
       "      <th>4</th>\n",
       "      <td>2.379653</td>\n",
       "      <td>0.707920</td>\n",
       "      <td>1.0</td>\n",
       "      <td>-0.924916</td>\n",
       "      <td>-0.743176</td>\n",
       "      <td>4.0</td>\n",
       "      <td>-1.450360</td>\n",
       "      <td>1.543152</td>\n",
       "      <td>1.495161</td>\n",
       "      <td>0.188526</td>\n",
       "      <td>-0.506473</td>\n",
       "      <td>0.0</td>\n",
       "      <td>1.799852</td>\n",
       "      <td>0.387465</td>\n",
       "      <td>-1.385353</td>\n",
       "    </tr>\n",
       "    <tr>\n",
       "      <th>...</th>\n",
       "      <td>...</td>\n",
       "      <td>...</td>\n",
       "      <td>...</td>\n",
       "      <td>...</td>\n",
       "      <td>...</td>\n",
       "      <td>...</td>\n",
       "      <td>...</td>\n",
       "      <td>...</td>\n",
       "      <td>...</td>\n",
       "      <td>...</td>\n",
       "      <td>...</td>\n",
       "      <td>...</td>\n",
       "      <td>...</td>\n",
       "      <td>...</td>\n",
       "      <td>...</td>\n",
       "    </tr>\n",
       "    <tr>\n",
       "      <th>28404</th>\n",
       "      <td>2.161381</td>\n",
       "      <td>0.154182</td>\n",
       "      <td>0.0</td>\n",
       "      <td>2.196706</td>\n",
       "      <td>-0.743176</td>\n",
       "      <td>5.0</td>\n",
       "      <td>0.689577</td>\n",
       "      <td>-0.373589</td>\n",
       "      <td>-0.694185</td>\n",
       "      <td>0.188642</td>\n",
       "      <td>-0.506473</td>\n",
       "      <td>1.0</td>\n",
       "      <td>1.799852</td>\n",
       "      <td>-0.578444</td>\n",
       "      <td>-0.331067</td>\n",
       "    </tr>\n",
       "    <tr>\n",
       "      <th>28405</th>\n",
       "      <td>-1.167270</td>\n",
       "      <td>2.042654</td>\n",
       "      <td>0.0</td>\n",
       "      <td>1.572382</td>\n",
       "      <td>0.992724</td>\n",
       "      <td>5.0</td>\n",
       "      <td>0.684676</td>\n",
       "      <td>-0.587367</td>\n",
       "      <td>-0.637818</td>\n",
       "      <td>0.188642</td>\n",
       "      <td>-0.506473</td>\n",
       "      <td>1.0</td>\n",
       "      <td>1.799852</td>\n",
       "      <td>-0.256474</td>\n",
       "      <td>-1.619639</td>\n",
       "    </tr>\n",
       "    <tr>\n",
       "      <th>28406</th>\n",
       "      <td>3.580151</td>\n",
       "      <td>0.954382</td>\n",
       "      <td>0.0</td>\n",
       "      <td>-0.300592</td>\n",
       "      <td>-0.743176</td>\n",
       "      <td>5.0</td>\n",
       "      <td>0.695583</td>\n",
       "      <td>-0.683411</td>\n",
       "      <td>-0.686202</td>\n",
       "      <td>-0.880504</td>\n",
       "      <td>1.284855</td>\n",
       "      <td>1.0</td>\n",
       "      <td>1.799852</td>\n",
       "      <td>-0.256474</td>\n",
       "      <td>-0.448210</td>\n",
       "    </tr>\n",
       "    <tr>\n",
       "      <th>28407</th>\n",
       "      <td>3.143606</td>\n",
       "      <td>0.154182</td>\n",
       "      <td>0.0</td>\n",
       "      <td>-0.924916</td>\n",
       "      <td>0.124774</td>\n",
       "      <td>5.0</td>\n",
       "      <td>0.683845</td>\n",
       "      <td>-0.701014</td>\n",
       "      <td>-0.689479</td>\n",
       "      <td>0.188642</td>\n",
       "      <td>-0.506473</td>\n",
       "      <td>1.0</td>\n",
       "      <td>1.799852</td>\n",
       "      <td>0.387465</td>\n",
       "      <td>-0.799639</td>\n",
       "    </tr>\n",
       "    <tr>\n",
       "      <th>28408</th>\n",
       "      <td>-1.093057</td>\n",
       "      <td>0.282214</td>\n",
       "      <td>0.0</td>\n",
       "      <td>-0.300592</td>\n",
       "      <td>0.124774</td>\n",
       "      <td>2.0</td>\n",
       "      <td>0.684190</td>\n",
       "      <td>-0.644544</td>\n",
       "      <td>-0.634297</td>\n",
       "      <td>0.188642</td>\n",
       "      <td>-0.506473</td>\n",
       "      <td>1.0</td>\n",
       "      <td>1.799852</td>\n",
       "      <td>0.387465</td>\n",
       "      <td>-0.799639</td>\n",
       "    </tr>\n",
       "  </tbody>\n",
       "</table>\n",
       "<p>28409 rows × 15 columns</p>\n",
       "</div>"
      ],
      "text/plain": [
       "       Price (billion VND)  Area (m2)  Property Type  Bedrooms  Bathrooms  \\\n",
       "0                -0.835496  -0.514786            1.0 -0.924916  -1.611125   \n",
       "1                 3.143606   1.082414            1.0 -0.924916  -0.743176   \n",
       "2                 2.707062   0.684554            1.0 -0.924916  -0.743176   \n",
       "3                 1.070020  -0.199827            1.0 -1.549241  -1.611125   \n",
       "4                 2.379653   0.707920            1.0 -0.924916  -0.743176   \n",
       "...                    ...        ...            ...       ...        ...   \n",
       "28404             2.161381   0.154182            0.0  2.196706  -0.743176   \n",
       "28405            -1.167270   2.042654            0.0  1.572382   0.992724   \n",
       "28406             3.580151   0.954382            0.0 -0.300592  -0.743176   \n",
       "28407             3.143606   0.154182            0.0 -0.924916   0.124774   \n",
       "28408            -1.093057   0.282214            0.0 -0.300592   0.124774   \n",
       "\n",
       "       Law Document  Latitude  Longitude  Postal Code  Importance  Place Rank  \\\n",
       "0               6.0 -1.462842   1.335916     1.498438   -0.880620    1.284855   \n",
       "1               4.0 -1.451113   1.488025     1.432554    0.188526   -0.506473   \n",
       "2               4.0 -1.450360   1.543152     1.495161    0.188526   -0.506473   \n",
       "3               4.0 -1.450360   1.543152     1.495161    0.188526   -0.506473   \n",
       "4               4.0 -1.450360   1.543152     1.495161    0.188526   -0.506473   \n",
       "...             ...       ...        ...          ...         ...         ...   \n",
       "28404           5.0  0.689577  -0.373589    -0.694185    0.188642   -0.506473   \n",
       "28405           5.0  0.684676  -0.587367    -0.637818    0.188642   -0.506473   \n",
       "28406           5.0  0.695583  -0.683411    -0.686202   -0.880504    1.284855   \n",
       "28407           5.0  0.683845  -0.701014    -0.689479    0.188642   -0.506473   \n",
       "28408           2.0  0.684190  -0.644544    -0.634297    0.188642   -0.506473   \n",
       "\n",
       "       City      Year     Month      Date  \n",
       "0       0.0  1.799852  0.709435 -0.565353  \n",
       "1       0.0  1.799852  0.387465  1.660362  \n",
       "2       0.0  1.799852  0.387465 -1.385353  \n",
       "3       0.0  1.799852  0.387465 -1.385353  \n",
       "4       0.0  1.799852  0.387465 -1.385353  \n",
       "...     ...       ...       ...       ...  \n",
       "28404   1.0  1.799852 -0.578444 -0.331067  \n",
       "28405   1.0  1.799852 -0.256474 -1.619639  \n",
       "28406   1.0  1.799852 -0.256474 -0.448210  \n",
       "28407   1.0  1.799852  0.387465 -0.799639  \n",
       "28408   1.0  1.799852  0.387465 -0.799639  \n",
       "\n",
       "[28409 rows x 15 columns]"
      ]
     },
     "execution_count": 16,
     "metadata": {},
     "output_type": "execute_result"
    }
   ],
   "source": [
    "input_data"
   ]
  },
  {
   "cell_type": "markdown",
   "metadata": {
    "id": "tjp1CbyIhri_"
   },
   "source": [
    "## **2.2. Preparing the data**"
   ]
  },
  {
   "cell_type": "code",
   "execution_count": 17,
   "metadata": {
    "id": "zIHCVo8zXwmX"
   },
   "outputs": [],
   "source": [
    "# Separate features and target\n",
    "X = input_data.drop(columns=[\"Price (billion VND)\"])\n",
    "y = input_data[\"Price (billion VND)\"]\n",
    "\n",
    "# Split the data into train and validation sets\n",
    "X_train, X_test, y_train, y_test = train_test_split(X, y, test_size=0.2, random_state=42)"
   ]
  },
  {
   "cell_type": "markdown",
   "metadata": {
    "id": "VMMLBRuwh7C4"
   },
   "source": [
    "## **2.3. Training the base model**"
   ]
  },
  {
   "cell_type": "code",
   "execution_count": 18,
   "metadata": {
    "id": "WLdFradwtHEK"
   },
   "outputs": [],
   "source": [
    "def evaluate(model, X_test, y_test) -> None:\n",
    "  y_pred = model.predict(X_test)\n",
    "  mae = mean_absolute_error(y_test, y_pred)\n",
    "  mse = mean_squared_error(y_test, y_pred)\n",
    "  r2 = r2_score(y_test, y_pred)\n",
    "  print('Model Performance:')\n",
    "  print(\"Mean Absolute Error: {:0.2f}\".format(mae))\n",
    "  print(\"Mean Squared Error: {:0.2f}\".format(mse))\n",
    "  print(\"R2 score: {:0.2f}\".format(r2))\n",
    "  return None"
   ]
  },
  {
   "cell_type": "code",
   "execution_count": 19,
   "metadata": {
    "colab": {
     "base_uri": "https://localhost:8080/"
    },
    "id": "eWVlCsVTs3By",
    "outputId": "3f02a13f-cd17-4b13-e8c0-ed1d6e9b5bcf"
   },
   "outputs": [
    {
     "name": "stdout",
     "output_type": "stream",
     "text": [
      "Model Performance:\n",
      "Mean Absolute Error: 0.41\n",
      "Mean Squared Error: 0.44\n",
      "R2 score: 0.56\n"
     ]
    }
   ],
   "source": [
    "base_model = RandomForestRegressor(random_state=42)\n",
    "base_model.fit(X_train, y_train)\n",
    "evaluate(base_model, X_test, y_test)"
   ]
  },
  {
   "cell_type": "code",
   "execution_count": 20,
   "metadata": {
    "colab": {
     "base_uri": "https://localhost:8080/"
    },
    "id": "K4vrxfo8vo_X",
    "outputId": "f346612b-200d-48a9-aa69-4c806de0e292"
   },
   "outputs": [
    {
     "name": "stdout",
     "output_type": "stream",
     "text": [
      "{'bootstrap': True,\n",
      " 'ccp_alpha': 0.0,\n",
      " 'criterion': 'squared_error',\n",
      " 'max_depth': None,\n",
      " 'max_features': 1.0,\n",
      " 'max_leaf_nodes': None,\n",
      " 'max_samples': None,\n",
      " 'min_impurity_decrease': 0.0,\n",
      " 'min_samples_leaf': 1,\n",
      " 'min_samples_split': 2,\n",
      " 'min_weight_fraction_leaf': 0.0,\n",
      " 'monotonic_cst': None,\n",
      " 'n_estimators': 100,\n",
      " 'n_jobs': None,\n",
      " 'oob_score': False,\n",
      " 'random_state': 42,\n",
      " 'verbose': 0,\n",
      " 'warm_start': False}\n"
     ]
    }
   ],
   "source": [
    "from pprint import pprint\n",
    "pprint(base_model.get_params())"
   ]
  },
  {
   "cell_type": "markdown",
   "metadata": {
    "id": "zFT_CWlkv9hC"
   },
   "source": [
    "## **2.4. RandomizedSearchCV training**"
   ]
  },
  {
   "cell_type": "code",
   "execution_count": 23,
   "metadata": {
    "colab": {
     "base_uri": "https://localhost:8080/"
    },
    "id": "-n2srXwsibqf",
    "outputId": "9f81fbf3-14d2-4197-c1d1-22be5a02d844"
   },
   "outputs": [
    {
     "name": "stdout",
     "output_type": "stream",
     "text": [
      "{'bootstrap': [True, False],\n",
      " 'max_depth': [10, 20, 30, 40, 50, 60, 70, 80, 90, 100, 110, None],\n",
      " 'max_features': ['log2', 'sqrt'],\n",
      " 'min_samples_leaf': [1, 2],\n",
      " 'min_samples_split': [2, 5],\n",
      " 'n_estimators': [100, 110, 120, 130, 140, 150, 160, 170, 180, 190, 200]}\n"
     ]
    }
   ],
   "source": [
    "# Create a parameter grid to sample\n",
    "\n",
    "# Number of trees in random forest\n",
    "n_estimators = [int(x) for x in np.linspace(start = 100, stop = 200, num = 11)]\n",
    "\n",
    "# Number of features to consider at every split\n",
    "max_features = ['log2', 'sqrt']\n",
    "\n",
    "# Maximum number of levels in tree\n",
    "max_depth = [int(x) for x in np.linspace(10, 110, num = 11)]\n",
    "max_depth.append(None)\n",
    "\n",
    "# Minimum number of samples required to split a node\n",
    "min_samples_split = [2, 5]\n",
    "\n",
    "# Minimum number of samples required at each leaf node\n",
    "min_samples_leaf = [1, 2]\n",
    "\n",
    "# Method of selecting samples for training each tree\n",
    "bootstrap = [True, False]\n",
    "\n",
    "# Create the random grid\n",
    "random_grid = {'n_estimators': n_estimators,\n",
    "               'max_features': max_features,\n",
    "               'max_depth': max_depth,\n",
    "               'min_samples_split': min_samples_split,\n",
    "               'min_samples_leaf': min_samples_leaf,\n",
    "               'bootstrap': bootstrap}\n",
    "pprint(random_grid)"
   ]
  },
  {
   "cell_type": "code",
   "execution_count": null,
   "metadata": {
    "colab": {
     "base_uri": "https://localhost:8080/",
     "height": 188
    },
    "id": "HLnwcU0oXyLM",
    "outputId": "448d5508-47f3-43fc-fb5d-18ace1c5dc3c"
   },
   "outputs": [],
   "source": [
    "# Define the model\n",
    "model = RandomForestRegressor()\n",
    "rf_random = RandomizedSearchCV(estimator = model,\n",
    "                               param_distributions = random_grid,\n",
    "                               n_iter = 80  , cv = 3,\n",
    "                               verbose=2, random_state=42,\n",
    "                               n_jobs = -1)\n",
    "\n",
    "# Fit the random search model\n",
    "rf_random.fit(X_train, y_train)"
   ]
  },
  {
   "cell_type": "code",
   "execution_count": null,
   "metadata": {
    "colab": {
     "base_uri": "https://localhost:8080/"
    },
    "id": "Ewy_awp7zDpD",
    "outputId": "28b61b23-48f6-4eb2-fe5a-821f13847b63"
   },
   "outputs": [
    {
     "data": {
      "text/plain": [
       "{'n_estimators': 200,\n",
       " 'min_samples_split': 5,\n",
       " 'min_samples_leaf': 1,\n",
       " 'max_features': 'log2',\n",
       " 'max_depth': None,\n",
       " 'bootstrap': False}"
      ]
     },
     "execution_count": 334,
     "metadata": {},
     "output_type": "execute_result"
    }
   ],
   "source": [
    "rf_random.best_params_"
   ]
  },
  {
   "cell_type": "code",
   "execution_count": null,
   "metadata": {
    "colab": {
     "base_uri": "https://localhost:8080/"
    },
    "id": "sNKHWtY6zKNR",
    "outputId": "66025007-7dd2-410f-85b5-35dc7bb87e9e"
   },
   "outputs": [
    {
     "name": "stdout",
     "output_type": "stream",
     "text": [
      "Model Performance:\n",
      "Mean Absolute Error: 0.39\n",
      "Mean Squared Error: 0.40\n",
      "R2 score: 0.60\n"
     ]
    }
   ],
   "source": [
    "best_random = rf_random.best_estimator_\n",
    "evaluate(best_random, X_test, y_test)"
   ]
  }
 ],
 "metadata": {
  "colab": {
   "provenance": []
  },
  "kernelspec": {
   "display_name": "Python 3",
   "name": "python3"
  },
  "language_info": {
   "codemirror_mode": {
    "name": "ipython",
    "version": 3
   },
   "file_extension": ".py",
   "mimetype": "text/x-python",
   "name": "python",
   "nbconvert_exporter": "python",
   "pygments_lexer": "ipython3",
   "version": "3.11.1"
  }
 },
 "nbformat": 4,
 "nbformat_minor": 0
}
